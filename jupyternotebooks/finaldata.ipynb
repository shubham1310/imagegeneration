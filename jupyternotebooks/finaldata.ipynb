{
 "cells": [
  {
   "cell_type": "code",
   "execution_count": 6,
   "metadata": {},
   "outputs": [],
   "source": [
    "import os\n",
    "from shutil import copyfile"
   ]
  },
  {
   "cell_type": "code",
   "execution_count": 7,
   "metadata": {},
   "outputs": [],
   "source": [
    "datadir='./data/'\n",
    "target='./datanew/'\n",
    "if not os.path.exists(target+'train/'):\n",
    "    os.makedirs(target+'train/')\n",
    "if not os.path.exists(target+'test/'):\n",
    "    os.makedirs(target+'test/')\n",
    "    \n",
    "for fil in os.listdir(datadir):\n",
    "    imgdirectory=os.path.join(datadir,fil)\n",
    "    for files in os.listdir(imgdirectory):\n",
    "        if not(files=='main.jpg'):\n",
    "            copyfile(os.path.join(imgdirectory,files), target+'train/'+fil+'_'+files)\n",
    "        else:\n",
    "            copyfile(os.path.join(imgdirectory,files), target+'test/'+fil+'_'+files)"
   ]
  },
  {
   "cell_type": "code",
   "execution_count": 21,
   "metadata": {
    "scrolled": false
   },
   "outputs": [],
   "source": [
    "import os\n",
    "import numpy as np\n",
    "from shutil import copyfile\n",
    "target='./datanew/fake/fake/'\n",
    "from PIL import Image as PImage\n",
    "a=os.listdir(target)\n",
    "a.sort()\n",
    "for image in a:\n",
    "#     print(image)\n",
    "    img = PImage.open(target + image)\n",
    "    if np.array(img).shape[2]==3:\n",
    "#         print 'ji'\n",
    "        pass\n",
    "    else:\n",
    "        print \"hula\"\n",
    "#     print(image)\n",
    "#     print('Name is: ' + image+ 'Size is:'+ str(np.array(img).shape))\n"
   ]
  },
  {
   "cell_type": "code",
   "execution_count": null,
   "metadata": {},
   "outputs": [],
   "source": []
  }
 ],
 "metadata": {
  "kernelspec": {
   "display_name": "Python 2",
   "language": "python",
   "name": "python2"
  },
  "language_info": {
   "codemirror_mode": {
    "name": "ipython",
    "version": 2
   },
   "file_extension": ".py",
   "mimetype": "text/x-python",
   "name": "python",
   "nbconvert_exporter": "python",
   "pygments_lexer": "ipython2",
   "version": "2.7.5"
  }
 },
 "nbformat": 4,
 "nbformat_minor": 2
}
