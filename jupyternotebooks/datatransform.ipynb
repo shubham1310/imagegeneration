{
 "cells": [
  {
   "cell_type": "code",
   "execution_count": null,
   "metadata": {},
   "outputs": [],
   "source": [
    "%matplotlib inline\n",
    "import numpy as np\n",
    "import skimage.io as io\n",
    "import matplotlib.pyplot as plt\n",
    "import random\n",
    "import scipy.misc\n",
    "import os\n",
    "random.seed(234)\n",
    "\n",
    "import cv2\n",
    "from multiprocessing import Pool\n",
    "\n",
    "datadir='./maskdata/fake1/'\n",
    "target='./maskdata/faketrans/'"
   ]
  },
  {
   "cell_type": "code",
   "execution_count": null,
   "metadata": {
    "scrolled": false
   },
   "outputs": [],
   "source": [
    "def makeimages(imgId):\n",
    "    imgf=os.path.join(datadir,imgId)\n",
    "    print(imgf)\n",
    "    img=io.imread(imgf)\n",
    "    kernel = np.ones((5,5),np.uint8)\n",
    "    plt.figure()\n",
    "    plt.imshow(img)\n",
    "    return\n",
    "    \n",
    "    size = (img.shape[0])/2\n",
    "    tmimg,tmmask = img[:size,:,:].astype('uint8'),img[size:,:,:]\n",
    "    mask = tmmask[:,:,0]/255    \n",
    "  \n",
    "#     scipy.misc.imsave('./maskdata/fake1/'+str(imgId)+'_'+str(idx)+'.jpg', finalwithmask)\n",
    "    \n",
    "\n",
    "# makeimages(imgIds[0])\n",
    "imgIds = os.listdir(datadir)[:2]\n",
    "pool = Pool(processes=2)\n",
    "pool.map(makeimages,imgIds)"
   ]
  },
  {
   "cell_type": "code",
   "execution_count": null,
   "metadata": {
    "scrolled": false
   },
   "outputs": [],
   "source": [
    "for imgId in os.listdir(datadir)[:20]:\n",
    "    imgf=os.path.join(datadir,imgId)\n",
    "    print(imgf)\n",
    "    tmimg=io.imread(imgf)\n",
    "    size = (tmimg.shape[0])/2\n",
    "    img,mask = tmimg[:size,:,:].astype('uint8'),tmimg[size:,:,:].astype('uint8')\n",
    "    minx,maxx,miny,maxy=10000,0,100000,0\n",
    "    for i in range(mask.shape[0]):\n",
    "        for j in range(mask.shape[1]):\n",
    "            if mask[i,j,0]>200:\n",
    "                minx=min(i,minx)\n",
    "                maxx=max(i,maxx)\n",
    "                miny=min(j,miny)\n",
    "                maxy=max(j,maxy)\n",
    "                mask[i,j,:]=255\n",
    "            else:\n",
    "                mask[i,j,:]=0\n",
    "    center = ((miny+maxy)/2,(minx+maxx)/2)\n",
    "    nmask = mask[minx:maxx,miny:maxy,:]\n",
    "    src = img[minx:maxx,miny:maxy]\n",
    "    plt.figure()\n",
    "    plt.imshow(src)\n",
    "    src= np.multiply(img[minx:maxx,miny:maxy],nmask/255)\n",
    "    \n",
    "    plt.figure()\n",
    "    plt.imshow(nmask)\n",
    "    plt.figure()\n",
    "    plt.imshow(src)\n",
    "    final = cv2.seamlessClone(src,img,nmask,center,cv2.NORMAL_CLONE)\n",
    "    plt.figure()\n",
    "    plt.imshow(img)\n",
    "    plt.figure()\n",
    "    plt.imshow(final)"
   ]
  },
  {
   "cell_type": "code",
   "execution_count": null,
   "metadata": {
    "scrolled": true
   },
   "outputs": [],
   "source": [
    "\n",
    "# Read images\n",
    "src = cv2.imread(\"./learnopencv/SeamlessCloning/images/airplane.jpg\")\n",
    "dst = cv2.imread(\"./learnopencv/SeamlessCloning/images/sky.jpg\")\n",
    "\n",
    "\n",
    "# Create a rough mask around the airplane.\n",
    "src_mask = np.zeros(src.shape, src.dtype)\n",
    "poly = np.array([ [4,80], [30,54], [151,63], [254,37], [298,90], [272,134], [43,122] ], np.int32)\n",
    "cv2.fillPoly(src_mask, [poly], (255, 255, 255))\n",
    "\n",
    "# This is where the CENTER of the airplane will be placed\n",
    "center = (800,100)\n",
    "plt.figure()\n",
    "plt.imshow(dst)\n",
    "plt.figure()\n",
    "plt.imshow(src)\n",
    "plt.figure()\n",
    "plt.imshow(src_mask)\n",
    "# print(src_mask[75,:])\n",
    "# Clone seamlessly.\n",
    "output = cv2.seamlessClone(src, dst, src_mask, center, cv2.NORMAL_CLONE)\n",
    "\n",
    "# Write result\n",
    "plt.figure()\n",
    "plt.imshow(output)\n",
    "\n",
    "\n"
   ]
  },
  {
   "cell_type": "code",
   "execution_count": null,
   "metadata": {},
   "outputs": [],
   "source": []
  }
 ],
 "metadata": {
  "kernelspec": {
   "display_name": "Python 2",
   "language": "python",
   "name": "python2"
  },
  "language_info": {
   "codemirror_mode": {
    "name": "ipython",
    "version": 2
   },
   "file_extension": ".py",
   "mimetype": "text/x-python",
   "name": "python",
   "nbconvert_exporter": "python",
   "pygments_lexer": "ipython2",
   "version": "2.7.5"
  }
 },
 "nbformat": 4,
 "nbformat_minor": 2
}
