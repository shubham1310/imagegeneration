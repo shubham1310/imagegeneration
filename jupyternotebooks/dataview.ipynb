{
 "cells": [
  {
   "cell_type": "code",
   "execution_count": 1,
   "metadata": {
    "scrolled": true
   },
   "outputs": [],
   "source": [
    "from PIL import Image\n",
    "%matplotlib inline\n",
    "import numpy as np\n",
    "import skimage.io as io\n",
    "import matplotlib.pyplot as plt\n",
    "import imageio\n",
    "import random\n",
    "from collections import Counter"
   ]
  },
  {
   "cell_type": "code",
   "execution_count": 2,
   "metadata": {
    "scrolled": true
   },
   "outputs": [],
   "source": [
    "# img = io.imread('./img_align_celeba/000001.jpg')\n",
    "# img[120:142+5,69:106,1]=255\n",
    "# # img[,:110,1] = 255 \n",
    "# # img[142:148,77:82,1] = 255\n",
    "# # img[152:158,73:78,1] = 255  \n",
    "# # img[154:158,108:114,1] = 255    \n",
    "# plt.figure()\n",
    "# plt.imshow(img)\n",
    "# a=\"5_o_Clock_Shadow Arched_Eyebrows Attractive Bags_Under_Eyes Bald Bangs Big_Lips Big_Nose Black_Hair Blond_Hair Blurry Brown_Hair Bushy_Eyebrows Chubby Double_Chin Eyeglasses Goatee Gray_Hair Heavy_Makeup High_Cheekbones Male Mouth_Slightly_Open Mustache Narrow_Eyes No_Beard Oval_Face Pale_Skin Pointy_Nose Receding_Hairline Rosy_Cheeks Sideburns Smiling Straight_Hair Wavy_Hair Wearing_Earrings Wearing_Hat Wearing_Lipstick Wearing_Necklace Wearing_Necktie Young \"\n",
    "# a=a.split(' ')\n",
    "# print(a.index('Eyeglasses'))\n",
    "# # for i in a:\n",
    "#     print(i)"
   ]
  },
  {
   "cell_type": "code",
   "execution_count": 3,
   "metadata": {
    "scrolled": true
   },
   "outputs": [],
   "source": [
    "a=open('../Anno/list_attr_celeba.txt').read()\n",
    "a=a.split('\\n')"
   ]
  },
  {
   "cell_type": "code",
   "execution_count": 4,
   "metadata": {
    "scrolled": true
   },
   "outputs": [],
   "source": [
    "n=len(a[2].split(' '))-1\n",
    "gender={}\n",
    "glass={}\n",
    "hat={}\n",
    "count = [0 for i in range(n)]\n",
    "for i in range(2,len(a)-1):\n",
    "    st = a[i].split(' ')\n",
    "    gender[st[0]] = st[21]\n",
    "    glass[st[0]]=st[16]\n",
    "    hat[st[0]] = st[36] \n",
    "#     for j in range(n):\n",
    "#         if st[j+1]=='1':\n",
    "#             count[j]+=1\n",
    "# for i in range(n):\n",
    "#     print(a[1].split(' ')[i],count[i])"
   ]
  },
  {
   "cell_type": "code",
   "execution_count": 5,
   "metadata": {
    "scrolled": true
   },
   "outputs": [],
   "source": [
    "b=open('../Anno/list_landmarks_align_celeba.txt').read()\n",
    "b=b.split('\\n')"
   ]
  },
  {
   "cell_type": "code",
   "execution_count": 6,
   "metadata": {
    "scrolled": false
   },
   "outputs": [],
   "source": [
    "# color={}\n",
    "malecoloravg=[]\n",
    "femalecoloravg=[]\n",
    "dims={}\n",
    "count=0\n",
    "bins = [16*i for i in range(0,5)] + [8*i for i in range(9,33)]\n",
    "# diff=[]\n",
    "    \n",
    "for i in range(2,len(b)-1): #\n",
    "    line=b[i].split(' ')\n",
    "    if glass[line[0]] !='1' and hat[line[0]] !='1' :\n",
    "        img = io.imread('./img_align_celeba/'+line[0])\n",
    "        y1,y2 = int(line[1]),int(line[3])\n",
    "        x1 = max(int(line[2]),int(line[4])) +7\n",
    "        x2 = int(line[6])+2\n",
    "        if abs((y1+y2)/2-int(line[5]))<5 and y2-y1 > 5 and x2-x1>5:\n",
    "            dims[line[0]] = line[1:]\n",
    "            mid =int((y1+y2)/2)\n",
    "            if abs(np.mean(np.sum(img[x1:x2,y1:mid,:],axis=2).flatten()) - np.mean(np.sum(img[x1:x2,mid:y2,:],axis=2).flatten()))/(x2-x1)/(y2-mid) <10:\n",
    "                count+=1\n",
    "                area=[]\n",
    "                for j in range(3):\n",
    "                    tmp=np.array(img[x1:x2,y1:y2,j]).flatten()\n",
    "                    inds = np.digitize(tmp, bins)\n",
    "                    val =[0 for k in range(len(bins))]\n",
    "                    for k in range(len(inds)):\n",
    "                        val[inds[k]]+=1\n",
    "                    sumsq = (sum([val[k]**2 for k in range(len(val))]))**0.5\n",
    "                    final=[val[k]*1.0/sumsq for k in range(len(val))]\n",
    "                    for k in final:\n",
    "                        area.append(k)\n",
    "                if gender[line[0]] =='1':\n",
    "                    imageio.imwrite('./origmale/' + line[0], img)\n",
    "                    malecoloravg.append([line[0],area])\n",
    "                else:\n",
    "                    imageio.imwrite('./origfemale/' + line[0], img)\n",
    "                    femalecoloravg.append([line[0],area])"
   ]
  },
  {
   "cell_type": "code",
   "execution_count": null,
   "metadata": {
    "scrolled": true
   },
   "outputs": [],
   "source": [
    "# for i in range(len(malecoloravg)):\n",
    "#     if (malecoloravg[i][0]=='001357.jpg'):\n",
    "#         print(i)\n",
    "# print(dims['000033.jpg'])\n",
    "# diff = sorted(diff, key=lambda x: x[1])\n",
    "# for i in diff:\n",
    "#     print (i)\n",
    "# for i in range(10):\n",
    "#     print(malecoloravg[i][0])\n",
    "#     img = io.imread('./img_align_celeba/'+malecoloravg[i][0])\n",
    "#     plt.figure()\n",
    "#     plt.imshow(img)"
   ]
  },
  {
   "cell_type": "code",
   "execution_count": null,
   "metadata": {},
   "outputs": [],
   "source": [
    "path='./gen/'\n",
    "from multiprocessing import Pool\n",
    "def copypaste(imid):\n",
    "    gencount=0\n",
    "    i=imid\n",
    "    lefteye=[]\n",
    "    righteye=[]\n",
    "    nose= []\n",
    "    mouth=[]\n",
    "    mainimg =io.imread('./img_align_celeba/'+malecoloravg[i][0])\n",
    "#     plt.figure()\n",
    "#     plt.imshow(mainimg)\n",
    "    mainvec =malecoloravg[i][1]\n",
    "    niter=5\n",
    "    lefteye_x, lefteye_y, righteye_x, righteye_y, nose_x, nose_y, leftmouth_x, leftmouth_y, rightmouth_x, rightmouth_y = dims[malecoloravg[i][0]]\n",
    "    lefteye_x, lefteye_y, righteye_x, righteye_y, nose_x, nose_y, leftmouth_x, leftmouth_y, rightmouth_x, rightmouth_y = int(lefteye_x), int(lefteye_y), int(righteye_x), int(righteye_y), int(nose_x), int(nose_y), int(leftmouth_x), int(leftmouth_y), int(rightmouth_x), int(rightmouth_y)\n",
    "    mouthdiff = rightmouth_x - leftmouth_x\n",
    "    val=[]\n",
    "    for j in range(len(malecoloravg)):\n",
    "#         if not(j==i):\n",
    "        lefteye_x, lefteye_y, righteye_x, righteye_y, nose_x, nose_y, leftmouth_x, leftmouth_y, rightmouth_x, rightmouth_y = dims[malecoloravg[j][0]]\n",
    "        lefteye_x, lefteye_y, righteye_x, righteye_y, nose_x, nose_y, leftmouth_x, leftmouth_y, rightmouth_x, rightmouth_y = int(lefteye_x), int(lefteye_y), int(righteye_x), int(righteye_y), int(nose_x), int(nose_y), int(leftmouth_x), int(leftmouth_y), int(rightmouth_x), int(rightmouth_y)\n",
    "        if abs(mouthdiff - (rightmouth_x - leftmouth_x)) <5:\n",
    "            val.append([malecoloravg[j][0],np.dot(mainvec,malecoloravg[j][1])])\n",
    "\n",
    "    val = sorted(val, key=lambda x: x[1], reverse=True)\n",
    "    for j in range(niter):\n",
    "        img = io.imread('./img_align_celeba/'+val[j][0])\n",
    "#         plt.figure()\n",
    "#         plt.imshow(img)\n",
    "        lefteye_x, lefteye_y, righteye_x, righteye_y, nose_x, nose_y, leftmouth_x, leftmouth_y, rightmouth_x, rightmouth_y = dims[val[j][0]]\n",
    "        lefteye_x, lefteye_y, righteye_x, righteye_y, nose_x, nose_y, leftmouth_x, leftmouth_y, rightmouth_x, rightmouth_y = int(lefteye_x), int(lefteye_y), int(righteye_x), int(righteye_y), int(nose_x), int(nose_y), int(leftmouth_x), int(leftmouth_y), int(rightmouth_x), int(rightmouth_y)\n",
    "        lefteye.append(img[lefteye_y-15:lefteye_y+10,lefteye_x-15:lefteye_x+15,:])\n",
    "        righteye.append(img[righteye_y-15:righteye_y+10,righteye_x-15:righteye_x+15,:])\n",
    "        nose.append(img[nose_y-15:nose_y+10,nose_x-15:nose_x+15,:])\n",
    "        mouth.append(img[min(rightmouth_y,leftmouth_y)-5:min(rightmouth_y,leftmouth_y)+15,leftmouth_x-5:leftmouth_x+mouthdiff+5,:])\n",
    "\n",
    "    for k in range(niter):\n",
    "        nlefteye = lefteye[random.randint(0,niter-1)]\n",
    "        nrighteye = righteye[random.randint(0,niter-1)]\n",
    "        nnose = nose[random.randint(0,niter-1)]\n",
    "        nmouth = mouth[random.randint(0,niter-1)]\n",
    "        tmp=mainimg\n",
    "        lefteye_x, lefteye_y, righteye_x, righteye_y, nose_x, nose_y, leftmouth_x, leftmouth_y, rightmouth_x, rightmouth_y = dims[malecoloravg[i][0]]\n",
    "        lefteye_x, lefteye_y, righteye_x, righteye_y, nose_x, nose_y, leftmouth_x, leftmouth_y, rightmouth_x, rightmouth_y = int(lefteye_x), int(lefteye_y), int(righteye_x), int(righteye_y), int(nose_x), int(nose_y), int(leftmouth_x), int(leftmouth_y), int(rightmouth_x), int(rightmouth_y)\n",
    "        tmp[lefteye_y-15:lefteye_y+10,lefteye_x-15:lefteye_x+15,:] = nlefteye\n",
    "        tmp[righteye_y-15:righteye_y+10,righteye_x-15:righteye_x+15,:] =nrighteye\n",
    "        tmp[nose_y-15:nose_y+10,nose_x-15:nose_x+15,:]=nnose\n",
    "        tmp[min(rightmouth_y,leftmouth_y)-5:min(rightmouth_y,leftmouth_y)+15,leftmouth_x-5:rightmouth_x+5,:] = nmouth\n",
    "        imageio.imwrite(path+malecoloravg[i][0][:-4] + str(gencount)+'.jpg', tmp)\n",
    "        gencount+=1\n",
    "\n",
    "# copypaste(3)\n",
    "# print(malecoloravg[3][0])\n",
    "imgIds = [i for i in range(len(malecoloravg))]#len(malecoloravg)\n",
    "pool = Pool(processes=20)\n",
    "pool.map(copypaste,imgIds)   "
   ]
  },
  {
   "cell_type": "code",
   "execution_count": null,
   "metadata": {},
   "outputs": [],
   "source": [
    "print(count)\n",
    "print(count*1.0/(len(b)-1))\n",
    "print(len(malecoloravg))\n",
    "print(len(femalecoloravg))"
   ]
  },
  {
   "cell_type": "code",
   "execution_count": null,
   "metadata": {},
   "outputs": [],
   "source": [
    "path='./fegen/'\n",
    "from multiprocessing import Pool\n",
    "def copypaste(imid):\n",
    "    gencount=0\n",
    "    i=imid\n",
    "    lefteye=[]\n",
    "    righteye=[]\n",
    "    nose= []\n",
    "    mouth=[]\n",
    "    mainimg =io.imread('./img_align_celeba/'+femalecoloravg[i][0])\n",
    "#     plt.figure()\n",
    "#     plt.imshow(mainimg)\n",
    "    mainvec =femalecoloravg[i][1]\n",
    "    niter=5\n",
    "    lefteye_x, lefteye_y, righteye_x, righteye_y, nose_x, nose_y, leftmouth_x, leftmouth_y, rightmouth_x, rightmouth_y = dims[femalecoloravg[i][0]]\n",
    "    lefteye_x, lefteye_y, righteye_x, righteye_y, nose_x, nose_y, leftmouth_x, leftmouth_y, rightmouth_x, rightmouth_y = int(lefteye_x), int(lefteye_y), int(righteye_x), int(righteye_y), int(nose_x), int(nose_y), int(leftmouth_x), int(leftmouth_y), int(rightmouth_x), int(rightmouth_y)\n",
    "    mouthdiff = rightmouth_x - leftmouth_x\n",
    "    val=[]\n",
    "    for j in range(len(femalecoloravg)):\n",
    "#         if not(j==i):\n",
    "        lefteye_x, lefteye_y, righteye_x, righteye_y, nose_x, nose_y, leftmouth_x, leftmouth_y, rightmouth_x, rightmouth_y = dims[femalecoloravg[j][0]]\n",
    "        lefteye_x, lefteye_y, righteye_x, righteye_y, nose_x, nose_y, leftmouth_x, leftmouth_y, rightmouth_x, rightmouth_y = int(lefteye_x), int(lefteye_y), int(righteye_x), int(righteye_y), int(nose_x), int(nose_y), int(leftmouth_x), int(leftmouth_y), int(rightmouth_x), int(rightmouth_y)\n",
    "        if abs(mouthdiff - (rightmouth_x - leftmouth_x)) <5:\n",
    "            val.append([femalecoloravg[j][0],np.dot(mainvec,femalecoloravg[j][1])])\n",
    "\n",
    "    val = sorted(val, key=lambda x: x[1], reverse=True)\n",
    "    for j in range(niter):\n",
    "        img = io.imread('./img_align_celeba/'+val[j][0])\n",
    "#         plt.figure()\n",
    "#         plt.imshow(img)\n",
    "        lefteye_x, lefteye_y, righteye_x, righteye_y, nose_x, nose_y, leftmouth_x, leftmouth_y, rightmouth_x, rightmouth_y = dims[val[j][0]]\n",
    "        lefteye_x, lefteye_y, righteye_x, righteye_y, nose_x, nose_y, leftmouth_x, leftmouth_y, rightmouth_x, rightmouth_y = int(lefteye_x), int(lefteye_y), int(righteye_x), int(righteye_y), int(nose_x), int(nose_y), int(leftmouth_x), int(leftmouth_y), int(rightmouth_x), int(rightmouth_y)\n",
    "        lefteye.append(img[lefteye_y-15:lefteye_y+10,lefteye_x-15:lefteye_x+15,:])\n",
    "        righteye.append(img[righteye_y-15:righteye_y+10,righteye_x-15:righteye_x+15,:])\n",
    "        nose.append(img[nose_y-15:nose_y+10,nose_x-15:nose_x+15,:])\n",
    "        mouth.append(img[min(rightmouth_y,leftmouth_y)-5:min(rightmouth_y,leftmouth_y)+15,leftmouth_x-5:leftmouth_x+mouthdiff+5,:])\n",
    "\n",
    "    for k in range(niter):\n",
    "        nlefteye = lefteye[random.randint(0,niter-1)]\n",
    "        nrighteye = righteye[random.randint(0,niter-1)]\n",
    "        nnose = nose[random.randint(0,niter-1)]\n",
    "        nmouth = mouth[random.randint(0,niter-1)]\n",
    "        tmp=mainimg\n",
    "        lefteye_x, lefteye_y, righteye_x, righteye_y, nose_x, nose_y, leftmouth_x, leftmouth_y, rightmouth_x, rightmouth_y = dims[femalecoloravg[i][0]]\n",
    "        lefteye_x, lefteye_y, righteye_x, righteye_y, nose_x, nose_y, leftmouth_x, leftmouth_y, rightmouth_x, rightmouth_y = int(lefteye_x), int(lefteye_y), int(righteye_x), int(righteye_y), int(nose_x), int(nose_y), int(leftmouth_x), int(leftmouth_y), int(rightmouth_x), int(rightmouth_y)\n",
    "        tmp[lefteye_y-15:lefteye_y+10,lefteye_x-15:lefteye_x+15,:] = nlefteye\n",
    "        tmp[righteye_y-15:righteye_y+10,righteye_x-15:righteye_x+15,:] =nrighteye\n",
    "        tmp[nose_y-15:nose_y+10,nose_x-15:nose_x+15,:]=nnose\n",
    "        tmp[min(rightmouth_y,leftmouth_y)-5:min(rightmouth_y,leftmouth_y)+15,leftmouth_x-5:rightmouth_x+5,:] = nmouth\n",
    "        imageio.imwrite(path+femalecoloravg[i][0][:-4] + str(gencount)+'.jpg', tmp)\n",
    "        gencount+=1\n",
    "\n",
    "# copypaste(3)\n",
    "# print(femalecoloravg[3][0])\n",
    "imgIds = [i for i in range(len(femalecoloravg))]#len(femalecoloravg)\n",
    "pool = Pool(processes=20)\n",
    "pool.map(copypaste,imgIds)   "
   ]
  },
  {
   "cell_type": "code",
   "execution_count": null,
   "metadata": {},
   "outputs": [],
   "source": []
  }
 ],
 "metadata": {
  "kernelspec": {
   "display_name": "is",
   "language": "python",
   "name": "is"
  },
  "language_info": {
   "codemirror_mode": {
    "name": "ipython",
    "version": 2
   },
   "file_extension": ".py",
   "mimetype": "text/x-python",
   "name": "python",
   "nbconvert_exporter": "python",
   "pygments_lexer": "ipython2",
   "version": "2.7.5"
  }
 },
 "nbformat": 4,
 "nbformat_minor": 2
}
